{
  "nbformat": 4,
  "nbformat_minor": 0,
  "metadata": {
    "colab": {
      "name": "Machine Learning Individual Task One.ipynb",
      "provenance": [],
      "collapsed_sections": [],
      "authorship_tag": "ABX9TyOSvZ+MYBPfljOuKFrQDPct",
      "include_colab_link": true
    },
    "kernelspec": {
      "name": "python3",
      "display_name": "Python 3"
    },
    "language_info": {
      "name": "python"
    }
  },
  "cells": [
    {
      "cell_type": "markdown",
      "metadata": {
        "id": "view-in-github",
        "colab_type": "text"
      },
      "source": [
        "<a href=\"https://colab.research.google.com/github/laura-create/ML-Task-One-114439/blob/main/Machine_Learning_Individual_Task_One.ipynb\" target=\"_parent\"><img src=\"https://colab.research.google.com/assets/colab-badge.svg\" alt=\"Open In Colab\"/></a>"
      ]
    },
    {
      "cell_type": "code",
      "source": [
        "import pandas as pd\n",
        "import matplotlib.pyplot as plt\n",
        "import numpy as np"
      ],
      "metadata": {
        "id": "bqJP0Tjl1MUJ"
      },
      "execution_count": 3,
      "outputs": []
    },
    {
      "cell_type": "code",
      "source": [
        "m=0.5\n",
        "c=0.2\n",
        "L=0.001"
      ],
      "metadata": {
        "id": "WNpZKKgE03CJ"
      },
      "execution_count": 1,
      "outputs": []
    },
    {
      "cell_type": "code",
      "source": [
        "a=np.random.normal(1,15,100)"
      ],
      "metadata": {
        "id": "n5acO4A-1uoI"
      },
      "execution_count": 4,
      "outputs": []
    },
    {
      "cell_type": "code",
      "source": [
        "x=np.random.uniform(10,100,100)\n",
        "y=m*x+c\n",
        "Y=y+a\n",
        "\n",
        "N=float(len(x))"
      ],
      "metadata": {
        "id": "AT3PMdnQ10iJ"
      },
      "execution_count": 6,
      "outputs": []
    },
    {
      "cell_type": "code",
      "source": [
        "plt.scatter(x,Y)"
      ],
      "metadata": {
        "id": "dO1ONzfU1-cx",
        "outputId": "6569b00a-0da0-4ad5-c091-395b61d518f2",
        "colab": {
          "base_uri": "https://localhost:8080/",
          "height": 282
        }
      },
      "execution_count": 9,
      "outputs": [
        {
          "output_type": "execute_result",
          "data": {
            "text/plain": [
              "<matplotlib.collections.PathCollection at 0x7fd7265cf410>"
            ]
          },
          "metadata": {},
          "execution_count": 9
        },
        {
          "output_type": "display_data",
          "data": {
            "text/plain": [
              "<Figure size 432x288 with 1 Axes>"
            ],
            "image/png": "[encoded data removed]"
          },
          "metadata": {
            "needs_background": "light"
          }
        }
      ]
    },
    {
      "cell_type": "code",
      "source": [
        "def mse(N,Y,Y_hat):#the MSE function for error computation\n",
        "  return (1/N)*sum(Y-Y_hat)**2"
      ],
      "metadata": {
        "id": "zbmQtXwS2i8j"
      },
      "execution_count": 10,
      "outputs": []
    },
    {
      "cell_type": "code",
      "source": [
        "class Linear_Regression:\n",
        "    def __init__(self, X, Y):\n",
        "        self.X = X\n",
        "        self.Y = Y\n",
        "        self.b = [0, 0]"
      ],
      "metadata": {
        "id": "NxlLWgPh24Tt"
      },
      "execution_count": 11,
      "outputs": []
    },
    {
      "cell_type": "code",
      "source": [
        "def update_coeffs(self, L):\n",
        "        Y_pred = self.predict()\n",
        "        Y = self.Y\n",
        "        m = len(Y)\n",
        "        self.b[0] = self.b[0] - (L * ((1/m) *\n",
        "                                np.sum(Y_pred - Y)))\n",
        " \n",
        "        self.b[1] = self.b[1] - (L * ((1/m) *\n",
        "                                np.sum((Y_pred - Y) * self.X)))"
      ],
      "metadata": {
        "id": "nXMcPOnH27mz"
      },
      "execution_count": 12,
      "outputs": []
    },
    {
      "cell_type": "code",
      "source": [
        "def predict(self, X=[]):\n",
        "        Y_pred = np.array([])\n",
        "        if not X: X = self.X\n",
        "        b = self.b\n",
        "        for x in X:\n",
        "            Y_pred = np.append(Y_pred, b[0] + (b[1] * x))\n",
        " \n",
        "        return Y_pred"
      ],
      "metadata": {
        "id": "-BAaBmMS3DDL"
      },
      "execution_count": 13,
      "outputs": []
    },
    {
      "cell_type": "code",
      "source": [
        "def get_current_accuracy(self, Y_pred):\n",
        "        p, e = Y_pred, self.Y\n",
        "        n = len(Y_pred)\n",
        "        return 1-sum(\n",
        "            [\n",
        "                abs(p[i]-e[i])/e[i]\n",
        "                for i in range(n)\n",
        "                if e[i] != 0]\n",
        "        )/n"
      ],
      "metadata": {
        "id": "dOPx9Rcx3Scx"
      },
      "execution_count": 14,
      "outputs": []
    },
    {
      "cell_type": "code",
      "source": [
        "def compute_cost(self, Y_pred):\n",
        "        m = len(self.Y)\n",
        "        J = (1 / 2*m) * (np.sum(Y_pred - self.Y)**2)\n",
        "        return J"
      ],
      "metadata": {
        "id": "gEtMiN-A3bmR"
      },
      "execution_count": 15,
      "outputs": []
    },
    {
      "cell_type": "code",
      "source": [
        "def plot_best_fit(self, Y_pred, fig):\n",
        "                f = plt.figure(fig)\n",
        "                plt.scatter(self.X, self.Y, color='b')\n",
        "                plt.plot(self.X, Y_pred, color='g')\n",
        "                f.show()"
      ],
      "metadata": {
        "id": "yqkEqAEF3fv4"
      },
      "execution_count": 16,
      "outputs": []
    }
  ]
}