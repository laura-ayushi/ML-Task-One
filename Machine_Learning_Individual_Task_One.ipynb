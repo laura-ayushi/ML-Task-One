{
  "nbformat": 4,
  "nbformat_minor": 0,
  "metadata": {
    "colab": {
      "name": "Machine Learning Individual Task One.ipynb",
      "provenance": [],
      "collapsed_sections": [],
      "authorship_tag": "ABX9TyMuk+Vjp1jLS2qqg6rqb2GE",
      "include_colab_link": true
    },
    "kernelspec": {
      "name": "python3",
      "display_name": "Python 3"
    },
    "language_info": {
      "name": "python"
    }
  },
  "cells": [
    {
      "cell_type": "markdown",
      "metadata": {
        "id": "view-in-github",
        "colab_type": "text"
      },
      "source": [
        "<a href=\"https://colab.research.google.com/github/laura-create/ML-Task-One-114439/blob/main/Machine_Learning_Individual_Task_One.ipynb\" target=\"_parent\"><img src=\"https://colab.research.google.com/assets/colab-badge.svg\" alt=\"Open In Colab\"/></a>"
      ]
    },
    {
      "cell_type": "code",
      "source": [
        "import pandas as pd\n",
        "import matplotlib.pyplot as plt\n",
        "import numpy as np"
      ],
      "metadata": {
        "id": "bqJP0Tjl1MUJ"
      },
      "execution_count": null,
      "outputs": []
    },
    {
      "cell_type": "code",
      "source": [
        "m=0.5\n",
        "c=0.2\n",
        "L=0.001"
      ],
      "metadata": {
        "id": "WNpZKKgE03CJ"
      },
      "execution_count": null,
      "outputs": []
    },
    {
      "cell_type": "code",
      "source": [
        "a=np.random.normal(1,15,100)"
      ],
      "metadata": {
        "id": "n5acO4A-1uoI"
      },
      "execution_count": null,
      "outputs": []
    },
    {
      "cell_type": "code",
      "source": [
        "x=np.random.uniform(10,100,100)\n",
        "y=m*X+c\n",
        "Y=y+a\n",
        "\n",
        "N=float(len(x))"
      ],
      "metadata": {
        "id": "AT3PMdnQ10iJ"
      },
      "execution_count": null,
      "outputs": []
    },
    {
      "cell_type": "code",
      "source": [
        "plt.scatter(X,Y)"
      ],
      "metadata": {
        "id": "dO1ONzfU1-cx"
      },
      "execution_count": null,
      "outputs": []
    },
    {
      "cell_type": "code",
      "source": [
        "def mse(N,Y,Y_hat):#the MSE function for error computation\n",
        "  return (1/N)*sum(Y-Y_hat)**2"
      ],
      "metadata": {
        "id": "zbmQtXwS2i8j"
      },
      "execution_count": null,
      "outputs": []
    },
    {
      "cell_type": "code",
      "source": [
        "class Linear_Regression:\n",
        "    def __init__(self, X, Y):\n",
        "        self.X = X\n",
        "        self.Y = Y\n",
        "        self.b = [0, 0]"
      ],
      "metadata": {
        "id": "NxlLWgPh24Tt"
      },
      "execution_count": null,
      "outputs": []
    },
    {
      "cell_type": "code",
      "source": [
        "def update_coeffs(self, L):\n",
        "        Y_pred = self.predict()\n",
        "        Y = self.Y\n",
        "        m = len(Y)\n",
        "        self.b[0] = self.b[0] - (L * ((1/m) *\n",
        "                                np.sum(Y_pred - Y)))\n",
        " \n",
        "        self.b[1] = self.b[1] - (L * ((1/m) *\n",
        "                                np.sum((Y_pred - Y) * self.X)))"
      ],
      "metadata": {
        "id": "nXMcPOnH27mz"
      },
      "execution_count": null,
      "outputs": []
    },
    {
      "cell_type": "code",
      "source": [
        "def predict(self, X=[]):\n",
        "        Y_pred = np.array([])\n",
        "        if not X: X = self.X\n",
        "        b = self.b\n",
        "        for x in X:\n",
        "            Y_pred = np.append(Y_pred, b[0] + (b[1] * x))\n",
        " \n",
        "        return Y_pred"
      ],
      "metadata": {
        "id": "-BAaBmMS3DDL"
      },
      "execution_count": null,
      "outputs": []
    },
    {
      "cell_type": "code",
      "source": [
        "def get_current_accuracy(self, Y_pred):\n",
        "        p, e = Y_pred, self.Y\n",
        "        n = len(Y_pred)\n",
        "        return 1-sum(\n",
        "            [\n",
        "                abs(p[i]-e[i])/e[i]\n",
        "                for i in range(n)\n",
        "                if e[i] != 0]\n",
        "        )/n"
      ],
      "metadata": {
        "id": "dOPx9Rcx3Scx"
      },
      "execution_count": null,
      "outputs": []
    },
    {
      "cell_type": "code",
      "source": [
        "def compute_cost(self, Y_pred):\n",
        "        m = len(self.Y)\n",
        "        J = (1 / 2*m) * (np.sum(Y_pred - self.Y)**2)\n",
        "        return J"
      ],
      "metadata": {
        "id": "gEtMiN-A3bmR"
      },
      "execution_count": null,
      "outputs": []
    },
    {
      "cell_type": "code",
      "source": [
        "def plot_best_fit(self, Y_pred, fig):\n",
        "                f = plt.figure(fig)\n",
        "                plt.scatter(self.X, self.Y, color='b')\n",
        "                plt.plot(self.X, Y_pred, color='g')\n",
        "                f.show()"
      ],
      "metadata": {
        "id": "yqkEqAEF3fv4"
      },
      "execution_count": null,
      "outputs": []
    },
    {
      "cell_type": "code",
      "source": [
        "def main():\n",
        "    X = np.array([i for i in range(11)])\n",
        "    Y = np.array([2*i for i in range(11)])\n",
        " \n",
        "    regressor = Linear_Regression(X, Y)\n",
        " \n",
        "    iterations = 0\n",
        "    steps = 100\n",
        "    learning_rate = 0.01\n",
        "    costs = []\n",
        "     \n",
        "    #original best-fit line\n",
        "    Y_pred = regressor.predict()\n",
        "    regressor.plot_best_fit(Y_pred, 'Initial Best Fit Line')\n",
        "     \n",
        " \n",
        "    while 1:\n",
        "        Y_pred = regressor.predict()\n",
        "        cost = regressor.compute_cost(Y_pred)\n",
        "        costs.append(cost)\n",
        "        regressor.update_coeffs(learning_rate)\n",
        "         \n",
        "        iterations += 1\n",
        "        if iterations % steps == 0:\n",
        "            print(iterations, \"epochs elapsed\")\n",
        "            print(\"Current accuracy is :\",\n",
        "                regressor.get_current_accuracy(Y_pred))\n",
        " \n",
        "            stop = input(\"Do you want to stop (y/*)??\")\n",
        "            if stop == \"y\":\n",
        "                break\n",
        " \n",
        "    #final best-fit line\n",
        "    regressor.plot_best_fit(Y_pred, 'Final Best Fit Line')\n",
        " \n",
        "    #plot to verify cost function decreases\n",
        "    h = plt.figure('Verification')\n",
        "    plt.plot(range(iterations), costs, color='b')\n",
        "    h.show()\n",
        " \n",
        "    # if user wants to predict using the regressor:\n",
        "    regressor.predict([i for i in range(10)])\n",
        " \n",
        "if __name__ == '__main__':\n",
        "    main()"
      ],
      "metadata": {
        "id": "KA4c2XR43oCA"
      },
      "execution_count": null,
      "outputs": []
    }
  ]
}